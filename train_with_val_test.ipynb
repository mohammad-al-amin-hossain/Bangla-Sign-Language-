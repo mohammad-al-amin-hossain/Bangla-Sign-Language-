{
 "cells": [
  {
   "cell_type": "code",
   "execution_count": 1,
   "metadata": {},
   "outputs": [
    {
     "name": "stderr",
     "output_type": "stream",
     "text": [
      "Using TensorFlow backend.\n"
     ]
    }
   ],
   "source": [
    "import os\n",
    "import random\n",
    "from glob import glob\n",
    "\n",
    "import cv2\n",
    "import numpy as np\n",
    "import matplotlib.pyplot as plt\n",
    "from keras import preprocessing\n",
    "\n",
    "%matplotlib inline"
   ]
  },
  {
   "cell_type": "code",
   "execution_count": 2,
   "metadata": {},
   "outputs": [],
   "source": [
    "class_names = ['ZERO', 'ONE', 'TWO', 'TREE', 'FOUR', 'FIVE']"
   ]
  },
  {
   "cell_type": "code",
   "execution_count": 3,
   "metadata": {},
   "outputs": [],
   "source": [
    "import os\n",
    "import random\n",
    "from glob import glob\n",
    "from keras import preprocessing\n",
    "\n",
    "width = 150\n",
    "height = 150\n",
    "\n",
    "\n",
    "images_types_1 = []\n",
    "for image_path in glob('E:/pink/data_set/images_type_1/*.*'):\n",
    "    image = preprocessing.image.load_img(image_path,\n",
    "                                        target_size =(width, height))\n",
    "    x = preprocessing.image.img_to_array(image)\n",
    "    images_types_1.append(x)\n",
    "    \n",
    "images_types_2 = []\n",
    "for image_path in glob('E:/pink/data_set/images_type_2/*.*'):\n",
    "    image = preprocessing.image.load_img(image_path,\n",
    "                                        target_size =(width, height))\n",
    "    x = preprocessing.image.img_to_array(image)\n",
    "    images_types_2.append(x)\n",
    "    \n",
    "images_types_3 = []\n",
    "for image_path in glob('E:/pink/data_set/images_type_3/*.*'):\n",
    "    image = preprocessing.image.load_img(image_path,\n",
    "                                        target_size =(width, height))\n",
    "    x = preprocessing.image.img_to_array(image)\n",
    "    images_types_3.append(x)\n",
    "    \n",
    "images_types_4 = []\n",
    "for image_path in glob('E:/pink/data_set/images_type_4/*.*'):\n",
    "    image = preprocessing.image.load_img(image_path,\n",
    "                                        target_size =(width, height))\n",
    "    x = preprocessing.image.img_to_array(image)\n",
    "    images_types_4.append(x)\n",
    "    \n",
    "images_types_5 = []\n",
    "for image_path in glob('E:/pink/data_set/images_type_5/*.*'):\n",
    "    image = preprocessing.image.load_img(image_path,\n",
    "                                        target_size =(width, height))\n",
    "    x = preprocessing.image.img_to_array(image)\n",
    "    images_types_5.append(x)\n",
    "    \n",
    "\n",
    "images_types_6 = []\n",
    "for image_path in glob('E:/pink/data_set/images_type_6/*.*'):\n",
    "    image = preprocessing.image.load_img(image_path,\n",
    "                                        target_size =(width, height))\n",
    "    x = preprocessing.image.img_to_array(image)\n",
    "    images_types_6.append(x)   \n",
    "    "
   ]
  },
  {
   "cell_type": "code",
   "execution_count": 4,
   "metadata": {},
   "outputs": [],
   "source": [
    "X_type_1 = np.array(images_types_1)\n",
    "X_type_2 = np.array(images_types_2)\n",
    "X_type_3 = np.array(images_types_3)\n",
    "X_type_4 = np.array(images_types_4)\n",
    "X_type_5 = np.array(images_types_5)\n",
    "X_type_6 = np.array(images_types_6)\n",
    "\n",
    "\n",
    "# X_test = np.array(images_test)\n"
   ]
  },
  {
   "cell_type": "code",
   "execution_count": 5,
   "metadata": {},
   "outputs": [],
   "source": [
    "# test_c = np.concatenate((X_test), axis=0)\n",
    "# test_c = test_c / 255\n",
    "# test_c.shape"
   ]
  },
  {
   "cell_type": "code",
   "execution_count": 6,
   "metadata": {},
   "outputs": [
    {
     "data": {
      "text/plain": [
       "(2700, 150, 150, 3)"
      ]
     },
     "execution_count": 6,
     "metadata": {},
     "output_type": "execute_result"
    }
   ],
   "source": [
    "X = np.concatenate((X_type_1, X_type_2, X_type_3, X_type_4, X_type_5, X_type_6), axis=0)\n",
    "X = X / 255.\n",
    "\n",
    "X.shape"
   ]
  },
  {
   "cell_type": "code",
   "execution_count": 7,
   "metadata": {},
   "outputs": [
    {
     "name": "stdout",
     "output_type": "stream",
     "text": [
      "(2700, 6)\n"
     ]
    }
   ],
   "source": [
    "from keras.utils import to_categorical\n",
    "\n",
    "y_type_1 = [0 for item in enumerate(X_type_1)]\n",
    "y_type_2 = [1 for item in enumerate(X_type_2)]\n",
    "y_type_3 = [2 for item in enumerate(X_type_3)]\n",
    "y_type_4 = [3 for item in enumerate(X_type_4)]\n",
    "y_type_5 = [4 for item in enumerate(X_type_5)]\n",
    "y_type_6 = [5 for item in enumerate(X_type_6)]\n",
    "\n",
    "y = np.concatenate((y_type_1, y_type_2, y_type_3, y_type_4, y_type_5, y_type_6), axis=0)\n",
    "\n",
    "y = to_categorical(y, num_classes=len(class_names))\n",
    "\n",
    "print(y.shape)"
   ]
  },
  {
   "cell_type": "code",
   "execution_count": 8,
   "metadata": {},
   "outputs": [
    {
     "name": "stdout",
     "output_type": "stream",
     "text": [
      "(2160, 150, 150, 3)\n",
      "(540, 150, 150, 3)\n",
      "(2160, 6)\n",
      "(540, 6)\n"
     ]
    }
   ],
   "source": [
    "from sklearn.model_selection import train_test_split\n",
    "\n",
    "\n",
    "X_train, X_val, y_train, y_val = train_test_split(X, y, test_size=0.20, random_state=2)\n",
    "\n",
    "print(X_train.shape)\n",
    "print(X_val.shape)\n",
    "print(y_train.shape)\n",
    "print(y_val.shape)"
   ]
  },
  {
   "cell_type": "code",
   "execution_count": 9,
   "metadata": {},
   "outputs": [],
   "source": [
    "ntrain = len(X_train)\n",
    "nval= len(X_val)"
   ]
  },
  {
   "cell_type": "code",
   "execution_count": 10,
   "metadata": {},
   "outputs": [],
   "source": [
    "from keras.models import Sequential\n",
    "from keras.layers.core import Activation, Dropout, Flatten, Dense\n",
    "from keras.layers.convolutional import Convolution2D, MaxPooling2D\n",
    "from keras.optimizers import Adam\n",
    "\n",
    "conv_1 = 16\n",
    "conv_1_drop = 0.2\n",
    "conv_2 = 32\n",
    "conv_2_drop = 0.2\n",
    "dense_1_n = 1024\n",
    "dense_1_drop = 0.2\n",
    "dense_2_n = 512\n",
    "dense_2_drop = 0.2\n",
    "lr = 0.001\n",
    "\n",
    "epochs = 30\n",
    "batch_size = 32\n",
    "color_channels = 3\n",
    "\n",
    "def build_model(conv_1_drop=conv_1_drop, conv_2_drop=conv_2_drop,\n",
    "                dense_1_n=dense_1_n, dense_1_drop=dense_1_drop,\n",
    "                dense_2_n=dense_2_n, dense_2_drop=dense_2_drop,\n",
    "                lr=lr):\n",
    "    model = Sequential()\n",
    "\n",
    "    model.add(Convolution2D(conv_1, (3, 3),\n",
    "                            input_shape=(width, height, color_channels),\n",
    "                            activation='relu'))\n",
    "    model.add(MaxPooling2D(pool_size=(2, 2)))\n",
    "    model.add(Dropout(conv_1_drop))\n",
    "\n",
    "    model.add(Convolution2D(conv_2, (3, 3), activation='relu'))\n",
    "    model.add(MaxPooling2D(pool_size=(2, 2)))\n",
    "    model.add(Dropout(conv_2_drop))\n",
    "        \n",
    "    model.add(Flatten())\n",
    "        \n",
    "    model.add(Dense(dense_1_n, activation='relu'))\n",
    "    model.add(Dropout(dense_1_drop))\n",
    "\n",
    "    model.add(Dense(dense_2_n, activation='relu'))\n",
    "    model.add(Dropout(dense_2_drop))\n",
    "\n",
    "    model.add(Dense(len(class_names), activation='softmax'))\n",
    "\n",
    "    model.compile(loss='categorical_crossentropy',\n",
    "                  optimizer=Adam(lr=lr),\n",
    "                  metrics=['accuracy'])\n",
    "\n",
    "    return model"
   ]
  },
  {
   "cell_type": "code",
   "execution_count": 11,
   "metadata": {},
   "outputs": [
    {
     "name": "stdout",
     "output_type": "stream",
     "text": [
      "WARNING:tensorflow:From C:\\Users\\user1\\Anaconda3\\envs\\tensorflow\\lib\\site-packages\\tensorflow\\python\\framework\\op_def_library.py:263: colocate_with (from tensorflow.python.framework.ops) is deprecated and will be removed in a future version.\n",
      "Instructions for updating:\n",
      "Colocations handled automatically by placer.\n",
      "WARNING:tensorflow:From C:\\Users\\user1\\Anaconda3\\envs\\tensorflow\\lib\\site-packages\\keras\\backend\\tensorflow_backend.py:3445: calling dropout (from tensorflow.python.ops.nn_ops) with keep_prob is deprecated and will be removed in a future version.\n",
      "Instructions for updating:\n",
      "Please use `rate` instead of `keep_prob`. Rate should be set to `rate = 1 - keep_prob`.\n",
      "_________________________________________________________________\n",
      "Layer (type)                 Output Shape              Param #   \n",
      "=================================================================\n",
      "conv2d_1 (Conv2D)            (None, 148, 148, 16)      448       \n",
      "_________________________________________________________________\n",
      "max_pooling2d_1 (MaxPooling2 (None, 74, 74, 16)        0         \n",
      "_________________________________________________________________\n",
      "dropout_1 (Dropout)          (None, 74, 74, 16)        0         \n",
      "_________________________________________________________________\n",
      "conv2d_2 (Conv2D)            (None, 72, 72, 32)        4640      \n",
      "_________________________________________________________________\n",
      "max_pooling2d_2 (MaxPooling2 (None, 36, 36, 32)        0         \n",
      "_________________________________________________________________\n",
      "dropout_2 (Dropout)          (None, 36, 36, 32)        0         \n",
      "_________________________________________________________________\n",
      "flatten_1 (Flatten)          (None, 41472)             0         \n",
      "_________________________________________________________________\n",
      "dense_1 (Dense)              (None, 1024)              42468352  \n",
      "_________________________________________________________________\n",
      "dropout_3 (Dropout)          (None, 1024)              0         \n",
      "_________________________________________________________________\n",
      "dense_2 (Dense)              (None, 512)               524800    \n",
      "_________________________________________________________________\n",
      "dropout_4 (Dropout)          (None, 512)               0         \n",
      "_________________________________________________________________\n",
      "dense_3 (Dense)              (None, 6)                 3078      \n",
      "=================================================================\n",
      "Total params: 43,001,318\n",
      "Trainable params: 43,001,318\n",
      "Non-trainable params: 0\n",
      "_________________________________________________________________\n"
     ]
    }
   ],
   "source": [
    "import numpy as np\n",
    "np.random.seed(1) # for reproducibility\n",
    "\n",
    "# model with base parameters\n",
    "model = build_model()\n",
    "\n",
    "model.summary()"
   ]
  },
  {
   "cell_type": "code",
   "execution_count": 12,
   "metadata": {},
   "outputs": [],
   "source": [
    "from keras.preprocessing.image import ImageDataGenerator"
   ]
  },
  {
   "cell_type": "code",
   "execution_count": 13,
   "metadata": {},
   "outputs": [],
   "source": [
    "train_datagen = ImageDataGenerator(rescale=1./255,\n",
    "                                  rotation_range=30,\n",
    "                                  width_shift_range=0.2,\n",
    "                                  height_shift_range=0.2,\n",
    "                                  shear_range=0.2,\n",
    "                                  horizontal_flip=True,)\n",
    "\n",
    "val_datagen = ImageDataGenerator(rescale=1./255)"
   ]
  },
  {
   "cell_type": "code",
   "execution_count": 14,
   "metadata": {},
   "outputs": [],
   "source": [
    "train_generator = train_datagen.flow(X_train, y_train, batch_size=batch_size)\n",
    "\n",
    "# t_g = (X_train, y_train, batch_size=batch_size)\n",
    "\n",
    "# b_g = (X_val, y_val, batch_size=batch_size)\n",
    "val_generator = val_datagen.flow(X_val, y_val, batch_size=batch_size)\n",
    "                                 "
   ]
  },
  {
   "cell_type": "code",
   "execution_count": 15,
   "metadata": {},
   "outputs": [
    {
     "name": "stdout",
     "output_type": "stream",
     "text": [
      "WARNING:tensorflow:From C:\\Users\\user1\\Anaconda3\\envs\\tensorflow\\lib\\site-packages\\tensorflow\\python\\ops\\math_ops.py:3066: to_int32 (from tensorflow.python.ops.math_ops) is deprecated and will be removed in a future version.\n",
      "Instructions for updating:\n",
      "Use tf.cast instead.\n",
      "Epoch 1/30\n",
      "2160/2160 [==============================] - 104s 48ms/step - loss: 0.6359 - acc: 0.8014\n",
      "Epoch 2/30\n",
      "2160/2160 [==============================] - 78s 36ms/step - loss: 0.0177 - acc: 0.9958\n",
      "Epoch 3/30\n",
      "2160/2160 [==============================] - 78s 36ms/step - loss: 0.0083 - acc: 0.9977\n",
      "Epoch 4/30\n",
      "2160/2160 [==============================] - 78s 36ms/step - loss: 0.0094 - acc: 0.9977\n",
      "Epoch 5/30\n",
      "2160/2160 [==============================] - 78s 36ms/step - loss: 4.3427e-04 - acc: 1.0000\n",
      "Epoch 6/30\n",
      "2160/2160 [==============================] - 78s 36ms/step - loss: 2.1938e-04 - acc: 1.0000\n",
      "Epoch 7/30\n",
      "2160/2160 [==============================] - 78s 36ms/step - loss: 6.2038e-05 - acc: 1.0000\n",
      "Epoch 8/30\n",
      "2160/2160 [==============================] - 78s 36ms/step - loss: 3.5469e-05 - acc: 1.0000\n",
      "Epoch 9/30\n",
      "2160/2160 [==============================] - 77s 36ms/step - loss: 4.0875e-05 - acc: 1.0000\n",
      "Epoch 10/30\n",
      "2160/2160 [==============================] - 77s 36ms/step - loss: 3.2732e-05 - acc: 1.0000\n",
      "Epoch 11/30\n",
      "2160/2160 [==============================] - 78s 36ms/step - loss: 2.8128e-05 - acc: 1.0000\n",
      "Epoch 12/30\n",
      "2160/2160 [==============================] - 78s 36ms/step - loss: 4.2987e-05 - acc: 1.0000\n",
      "Epoch 13/30\n",
      "2160/2160 [==============================] - 78s 36ms/step - loss: 3.3786e-05 - acc: 1.0000\n",
      "Epoch 14/30\n",
      "2160/2160 [==============================] - 77s 36ms/step - loss: 1.6324e-05 - acc: 1.0000\n",
      "Epoch 15/30\n",
      "2160/2160 [==============================] - 78s 36ms/step - loss: 2.0789e-05 - acc: 1.0000\n",
      "Epoch 16/30\n",
      "2160/2160 [==============================] - 77s 36ms/step - loss: 9.4243e-06 - acc: 1.0000\n",
      "Epoch 17/30\n",
      "2160/2160 [==============================] - 77s 36ms/step - loss: 5.0919e-05 - acc: 1.0000\n",
      "Epoch 18/30\n",
      "2160/2160 [==============================] - 77s 36ms/step - loss: 9.3328e-06 - acc: 1.0000\n",
      "Epoch 19/30\n",
      "2160/2160 [==============================] - 78s 36ms/step - loss: 1.2470e-05 - acc: 1.0000\n",
      "Epoch 20/30\n",
      "2160/2160 [==============================] - 77s 36ms/step - loss: 5.4779e-06 - acc: 1.0000\n",
      "Epoch 21/30\n",
      "2160/2160 [==============================] - 77s 36ms/step - loss: 0.0484 - acc: 0.9866\n",
      "Epoch 22/30\n",
      "2160/2160 [==============================] - 77s 36ms/step - loss: 0.0114 - acc: 0.9949\n",
      "Epoch 23/30\n",
      "2160/2160 [==============================] - 78s 36ms/step - loss: 0.0102 - acc: 0.9968\n",
      "Epoch 24/30\n",
      "2160/2160 [==============================] - 1043s 483ms/step - loss: 0.0070 - acc: 0.9972\n",
      "Epoch 25/30\n",
      "2160/2160 [==============================] - 125s 58ms/step - loss: 6.9109e-04 - acc: 1.0000\n",
      "Epoch 26/30\n",
      "2160/2160 [==============================] - 93s 43ms/step - loss: 1.5028e-04 - acc: 1.0000\n",
      "Epoch 27/30\n",
      "2160/2160 [==============================] - 80s 37ms/step - loss: 2.7568e-05 - acc: 1.0000\n",
      "Epoch 28/30\n",
      "2160/2160 [==============================] - 79s 37ms/step - loss: 6.3324e-05 - acc: 1.0000\n",
      "Epoch 29/30\n",
      "2160/2160 [==============================] - 77s 36ms/step - loss: 2.7109e-05 - acc: 1.0000\n",
      "Epoch 30/30\n",
      "2160/2160 [==============================] - 78s 36ms/step - loss: 6.0742e-06 - acc: 1.0000\n"
     ]
    },
    {
     "ename": "AttributeError",
     "evalue": "'Sequential' object has no attribute 'score'",
     "output_type": "error",
     "traceback": [
      "\u001b[1;31m---------------------------------------------------------------------------\u001b[0m",
      "\u001b[1;31mAttributeError\u001b[0m                            Traceback (most recent call last)",
      "\u001b[1;32m<ipython-input-15-b37b8524fabd>\u001b[0m in \u001b[0;36m<module>\u001b[1;34m\u001b[0m\n\u001b[0;32m     10\u001b[0m \u001b[0mmodel\u001b[0m\u001b[1;33m.\u001b[0m\u001b[0mfit\u001b[0m\u001b[1;33m(\u001b[0m\u001b[0mX_train\u001b[0m\u001b[1;33m,\u001b[0m \u001b[0my_train\u001b[0m\u001b[1;33m,\u001b[0m \u001b[0mepochs\u001b[0m\u001b[1;33m=\u001b[0m\u001b[0mepochs\u001b[0m\u001b[1;33m)\u001b[0m\u001b[1;33m\u001b[0m\u001b[1;33m\u001b[0m\u001b[0m\n\u001b[0;32m     11\u001b[0m \u001b[1;33m\u001b[0m\u001b[0m\n\u001b[1;32m---> 12\u001b[1;33m \u001b[0macc\u001b[0m \u001b[1;33m=\u001b[0m \u001b[0mmodel\u001b[0m\u001b[1;33m.\u001b[0m\u001b[0mscore\u001b[0m\u001b[1;33m(\u001b[0m\u001b[0mX_test\u001b[0m\u001b[1;33m,\u001b[0m \u001b[0my_test\u001b[0m\u001b[1;33m,\u001b[0m \u001b[0mepochs\u001b[0m \u001b[1;33m=\u001b[0m \u001b[0mepochs\u001b[0m\u001b[1;33m)\u001b[0m\u001b[1;33m\u001b[0m\u001b[1;33m\u001b[0m\u001b[0m\n\u001b[0m\u001b[0;32m     13\u001b[0m \u001b[0mprint\u001b[0m\u001b[1;33m(\u001b[0m\u001b[0macc\u001b[0m\u001b[1;33m)\u001b[0m\u001b[1;33m\u001b[0m\u001b[1;33m\u001b[0m\u001b[0m\n",
      "\u001b[1;31mAttributeError\u001b[0m: 'Sequential' object has no attribute 'score'"
     ]
    }
   ],
   "source": [
    "model.fit_generator(train_generator,\n",
    "                    steps_per_epoch=ntrain // batch_size,\n",
    "                   epochs=epochs,\n",
    "                   validation_data=val_generator,\n",
    "                   validation_steps=nval // batch_size)\n",
    "\n",
    "\n",
    "\n",
    "# epochs = 30\n",
    "# model.fit(X_train, y_train, epochs=epochs)\n",
    "\n",
    "# acc = model.score(X_test, y_test, epochs = epochs)\n",
    "# print(acc)"
   ]
  },
  {
   "cell_type": "code",
   "execution_count": null,
   "metadata": {},
   "outputs": [],
   "source": [
    "import pickle\n",
    "\n",
    "with open ('-----', 'wb') as f:\n",
    "    pickle.dump(model,f)"
   ]
  },
  {
   "cell_type": "code",
   "execution_count": null,
   "metadata": {},
   "outputs": [],
   "source": []
  }
 ],
 "metadata": {
  "kernelspec": {
   "display_name": "Python 3",
   "language": "python",
   "name": "python3"
  },
  "language_info": {
   "codemirror_mode": {
    "name": "ipython",
    "version": 3
   },
   "file_extension": ".py",
   "mimetype": "text/x-python",
   "name": "python",
   "nbconvert_exporter": "python",
   "pygments_lexer": "ipython3",
   "version": "3.6.8"
  }
 },
 "nbformat": 4,
 "nbformat_minor": 2
}
